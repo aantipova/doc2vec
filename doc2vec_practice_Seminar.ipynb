# practicing file from @Galvanize London: Beyond word2vec

print "People intro"

"It is unsupervised in the sence that you know the order in the documents originally"
"MDB used: positive/negative review"

"Paragraph: useful if u want to add paragraph+text during the calculation, u don't have initial random value of prediction.
Then u use quick analisys of the paragraph title (positive/negative) to put it to the right position.
Paragraph has the same weight (in the original algorithm) as words of the text of paragraph."

http://www.socher.org/uploads/Main/SocherBauerManningNg_ACL2013.pdf

