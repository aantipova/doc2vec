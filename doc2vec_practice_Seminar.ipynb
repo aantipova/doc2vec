# practicing file from @Galvanize London: Beyond word2vec

print "People intro"
